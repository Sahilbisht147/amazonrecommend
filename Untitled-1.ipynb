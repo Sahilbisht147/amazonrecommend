{
 "cells": [
  {
   "cell_type": "code",
   "execution_count": 2,
   "metadata": {},
   "outputs": [
    {
     "name": "stdout",
     "output_type": "stream",
     "text": [
      "Dataset Preview:\n",
      "   product_id                                       product_name  \\\n",
      "0  B07JW9H4J1  Wayona Nylon Braided USB to Lightning Fast Cha...   \n",
      "1  B098NS6PVG  Ambrane Unbreakable 60W / 3A Fast Charging 1.5...   \n",
      "2  B096MSW6CT  Sounce Fast Phone Charging Cable & Data Sync U...   \n",
      "3  B08HDJ86NZ  boAt Deuce USB 300 2 in 1 Type-C & Micro USB S...   \n",
      "4  B08CF3B7N1  Portronics Konnect L 1.2M Fast Charging 3A 8 P...   \n",
      "\n",
      "                                            category discounted_price  \\\n",
      "0  Computers&Accessories|Accessories&Peripherals|...             ₹399   \n",
      "1  Computers&Accessories|Accessories&Peripherals|...             ₹199   \n",
      "2  Computers&Accessories|Accessories&Peripherals|...             ₹199   \n",
      "3  Computers&Accessories|Accessories&Peripherals|...             ₹329   \n",
      "4  Computers&Accessories|Accessories&Peripherals|...             ₹154   \n",
      "\n",
      "  actual_price discount_percentage rating rating_count  \\\n",
      "0       ₹1,099                 64%    4.2       24,269   \n",
      "1         ₹349                 43%    4.0       43,994   \n",
      "2       ₹1,899                 90%    3.9        7,928   \n",
      "3         ₹699                 53%    4.2       94,363   \n",
      "4         ₹399                 61%    4.2       16,905   \n",
      "\n",
      "                                       about_product  \\\n",
      "0  High Compatibility : Compatible With iPhone 12...   \n",
      "1  Compatible with all Type C enabled devices, be...   \n",
      "2  【 Fast Charger& Data Sync】-With built-in safet...   \n",
      "3  The boAt Deuce USB 300 2 in 1 cable is compati...   \n",
      "4  [CHARGE & SYNC FUNCTION]- This cable comes wit...   \n",
      "\n",
      "                                             user_id  \\\n",
      "0  AG3D6O4STAQKAY2UVGEUV46KN35Q,AHMY5CWJMMK5BJRBB...   \n",
      "1  AECPFYFQVRUWC3KGNLJIOREFP5LQ,AGYYVPDD7YG7FYNBX...   \n",
      "2  AGU3BBQ2V2DDAMOAKGFAWDDQ6QHA,AESFLDV2PT363T2AQ...   \n",
      "3  AEWAZDZZJLQUYVOVGBEUKSLXHQ5A,AG5HTSFRRE6NL3M5S...   \n",
      "4  AE3Q6KSUK5P75D5HFYHCRAOLODSA,AFUGIFH5ZAFXRDSZH...   \n",
      "\n",
      "                                           user_name  \\\n",
      "0  Manav,Adarsh gupta,Sundeep,S.Sayeed Ahmed,jasp...   \n",
      "1  ArdKn,Nirbhay kumar,Sagar Viswanathan,Asp,Plac...   \n",
      "2  Kunal,Himanshu,viswanath,sai niharka,saqib mal...   \n",
      "3  Omkar dhale,JD,HEMALATHA,Ajwadh a.,amar singh ...   \n",
      "4  rahuls6099,Swasat Borah,Ajay Wadke,Pranali,RVK...   \n",
      "\n",
      "                                           review_id  \\\n",
      "0  R3HXWT0LRP0NMF,R2AJM3LFTLZHFO,R6AQJGUP6P86,R1K...   \n",
      "1  RGIQEG07R9HS2,R1SMWZQ86XIN8U,R2J3Y1WL29GWDE,RY...   \n",
      "2  R3J3EQQ9TZI5ZJ,R3E7WBGK7ID0KV,RWU79XKQ6I1QF,R2...   \n",
      "3  R3EEUZKKK9J36I,R3HJVYCLYOY554,REDECAZ7AMPQC,R1...   \n",
      "4  R1BP4L2HH9TFUP,R16PVJEXKV6QZS,R2UPDB81N66T4P,R...   \n",
      "\n",
      "                                        review_title  \\\n",
      "0  Satisfied,Charging is really fast,Value for mo...   \n",
      "1  A Good Braided Cable for Your Type C Device,Go...   \n",
      "2  Good speed for earlier versions,Good Product,W...   \n",
      "3  Good product,Good one,Nice,Really nice product...   \n",
      "4  As good as original,Decent,Good one for second...   \n",
      "\n",
      "                                      review_content  \\\n",
      "0  Looks durable Charging is fine tooNo complains...   \n",
      "1  I ordered this cable to connect my phone to An...   \n",
      "2  Not quite durable and sturdy,https://m.media-a...   \n",
      "3  Good product,long wire,Charges good,Nice,I bou...   \n",
      "4  Bought this instead of original apple, does th...   \n",
      "\n",
      "                                            img_link  \\\n",
      "0  https://m.media-amazon.com/images/W/WEBP_40237...   \n",
      "1  https://m.media-amazon.com/images/W/WEBP_40237...   \n",
      "2  https://m.media-amazon.com/images/W/WEBP_40237...   \n",
      "3  https://m.media-amazon.com/images/I/41V5FtEWPk...   \n",
      "4  https://m.media-amazon.com/images/W/WEBP_40237...   \n",
      "\n",
      "                                        product_link  \n",
      "0  https://www.amazon.in/Wayona-Braided-WN3LG1-Sy...  \n",
      "1  https://www.amazon.in/Ambrane-Unbreakable-Char...  \n",
      "2  https://www.amazon.in/Sounce-iPhone-Charging-C...  \n",
      "3  https://www.amazon.in/Deuce-300-Resistant-Tang...  \n",
      "4  https://www.amazon.in/Portronics-Konnect-POR-1...  \n",
      "Dataset Shape: (1465, 16)\n"
     ]
    }
   ],
   "source": [
    "import pandas as pd\n",
    "\n",
    "# Load the dataset\n",
    "df = pd.read_csv('amazon.csv')\n",
    "\n",
    "# View the first few rows of the dataset\n",
    "print(\"Dataset Preview:\")\n",
    "print(df.head())\n",
    "\n",
    "# Check the shape of the dataset\n",
    "print(\"Dataset Shape:\", df.shape)\n"
   ]
  },
  {
   "cell_type": "code",
   "execution_count": 3,
   "metadata": {},
   "outputs": [
    {
     "name": "stdout",
     "output_type": "stream",
     "text": [
      "\n",
      "Missing values after conversion to numeric:\n",
      "discounted_price    0\n",
      "rating              1\n",
      "dtype: int64\n",
      "Dataset after cleaning:\n",
      "   product_id                                       product_name  \\\n",
      "0  B07JW9H4J1  Wayona Nylon Braided USB to Lightning Fast Cha...   \n",
      "1  B098NS6PVG  Ambrane Unbreakable 60W / 3A Fast Charging 1.5...   \n",
      "2  B096MSW6CT  Sounce Fast Phone Charging Cable & Data Sync U...   \n",
      "3  B08HDJ86NZ  boAt Deuce USB 300 2 in 1 Type-C & Micro USB S...   \n",
      "4  B08CF3B7N1  Portronics Konnect L 1.2M Fast Charging 3A 8 P...   \n",
      "\n",
      "                                            category  discounted_price  \\\n",
      "0  Computers&Accessories|Accessories&Peripherals|...             399.0   \n",
      "1  Computers&Accessories|Accessories&Peripherals|...             199.0   \n",
      "2  Computers&Accessories|Accessories&Peripherals|...             199.0   \n",
      "3  Computers&Accessories|Accessories&Peripherals|...             329.0   \n",
      "4  Computers&Accessories|Accessories&Peripherals|...             154.0   \n",
      "\n",
      "  actual_price discount_percentage  rating rating_count  \\\n",
      "0       ₹1,099                 64%     4.2       24,269   \n",
      "1         ₹349                 43%     4.0       43,994   \n",
      "2       ₹1,899                 90%     3.9        7,928   \n",
      "3         ₹699                 53%     4.2       94,363   \n",
      "4         ₹399                 61%     4.2       16,905   \n",
      "\n",
      "                                       about_product  \\\n",
      "0  High Compatibility : Compatible With iPhone 12...   \n",
      "1  Compatible with all Type C enabled devices, be...   \n",
      "2  【 Fast Charger& Data Sync】-With built-in safet...   \n",
      "3  The boAt Deuce USB 300 2 in 1 cable is compati...   \n",
      "4  [CHARGE & SYNC FUNCTION]- This cable comes wit...   \n",
      "\n",
      "                                             user_id  \\\n",
      "0  AG3D6O4STAQKAY2UVGEUV46KN35Q,AHMY5CWJMMK5BJRBB...   \n",
      "1  AECPFYFQVRUWC3KGNLJIOREFP5LQ,AGYYVPDD7YG7FYNBX...   \n",
      "2  AGU3BBQ2V2DDAMOAKGFAWDDQ6QHA,AESFLDV2PT363T2AQ...   \n",
      "3  AEWAZDZZJLQUYVOVGBEUKSLXHQ5A,AG5HTSFRRE6NL3M5S...   \n",
      "4  AE3Q6KSUK5P75D5HFYHCRAOLODSA,AFUGIFH5ZAFXRDSZH...   \n",
      "\n",
      "                                           user_name  \\\n",
      "0  Manav,Adarsh gupta,Sundeep,S.Sayeed Ahmed,jasp...   \n",
      "1  ArdKn,Nirbhay kumar,Sagar Viswanathan,Asp,Plac...   \n",
      "2  Kunal,Himanshu,viswanath,sai niharka,saqib mal...   \n",
      "3  Omkar dhale,JD,HEMALATHA,Ajwadh a.,amar singh ...   \n",
      "4  rahuls6099,Swasat Borah,Ajay Wadke,Pranali,RVK...   \n",
      "\n",
      "                                           review_id  \\\n",
      "0  R3HXWT0LRP0NMF,R2AJM3LFTLZHFO,R6AQJGUP6P86,R1K...   \n",
      "1  RGIQEG07R9HS2,R1SMWZQ86XIN8U,R2J3Y1WL29GWDE,RY...   \n",
      "2  R3J3EQQ9TZI5ZJ,R3E7WBGK7ID0KV,RWU79XKQ6I1QF,R2...   \n",
      "3  R3EEUZKKK9J36I,R3HJVYCLYOY554,REDECAZ7AMPQC,R1...   \n",
      "4  R1BP4L2HH9TFUP,R16PVJEXKV6QZS,R2UPDB81N66T4P,R...   \n",
      "\n",
      "                                        review_title  \\\n",
      "0  Satisfied,Charging is really fast,Value for mo...   \n",
      "1  A Good Braided Cable for Your Type C Device,Go...   \n",
      "2  Good speed for earlier versions,Good Product,W...   \n",
      "3  Good product,Good one,Nice,Really nice product...   \n",
      "4  As good as original,Decent,Good one for second...   \n",
      "\n",
      "                                      review_content  \\\n",
      "0  Looks durable Charging is fine tooNo complains...   \n",
      "1  I ordered this cable to connect my phone to An...   \n",
      "2  Not quite durable and sturdy,https://m.media-a...   \n",
      "3  Good product,long wire,Charges good,Nice,I bou...   \n",
      "4  Bought this instead of original apple, does th...   \n",
      "\n",
      "                                            img_link  \\\n",
      "0  https://m.media-amazon.com/images/W/WEBP_40237...   \n",
      "1  https://m.media-amazon.com/images/W/WEBP_40237...   \n",
      "2  https://m.media-amazon.com/images/W/WEBP_40237...   \n",
      "3  https://m.media-amazon.com/images/I/41V5FtEWPk...   \n",
      "4  https://m.media-amazon.com/images/W/WEBP_40237...   \n",
      "\n",
      "                                        product_link  \n",
      "0  https://www.amazon.in/Wayona-Braided-WN3LG1-Sy...  \n",
      "1  https://www.amazon.in/Ambrane-Unbreakable-Char...  \n",
      "2  https://www.amazon.in/Sounce-iPhone-Charging-C...  \n",
      "3  https://www.amazon.in/Deuce-300-Resistant-Tang...  \n",
      "4  https://www.amazon.in/Portronics-Konnect-POR-1...  \n",
      "Dataset Shape after cleaning: (1465, 16)\n"
     ]
    },
    {
     "name": "stderr",
     "output_type": "stream",
     "text": [
      "/var/folders/74/my7lv8xx6h963_fwmcnm7k4r0000gn/T/ipykernel_767/1487887161.py:12: FutureWarning: A value is trying to be set on a copy of a DataFrame or Series through chained assignment using an inplace method.\n",
      "The behavior will change in pandas 3.0. This inplace method will never work because the intermediate object on which we are setting values always behaves as a copy.\n",
      "\n",
      "For example, when doing 'df[col].method(value, inplace=True)', try using 'df.method({col: value}, inplace=True)' or df[col] = df[col].method(value) instead, to perform the operation inplace on the original object.\n",
      "\n",
      "\n",
      "  df['discounted_price'].fillna(df['discounted_price'].mean(), inplace=True)\n",
      "/var/folders/74/my7lv8xx6h963_fwmcnm7k4r0000gn/T/ipykernel_767/1487887161.py:13: FutureWarning: A value is trying to be set on a copy of a DataFrame or Series through chained assignment using an inplace method.\n",
      "The behavior will change in pandas 3.0. This inplace method will never work because the intermediate object on which we are setting values always behaves as a copy.\n",
      "\n",
      "For example, when doing 'df[col].method(value, inplace=True)', try using 'df.method({col: value}, inplace=True)' or df[col] = df[col].method(value) instead, to perform the operation inplace on the original object.\n",
      "\n",
      "\n",
      "  df['rating'].fillna(df['rating'].mean(), inplace=True)\n"
     ]
    }
   ],
   "source": [
    "# Clean 'discounted_price' and convert to numeric\n",
    "df['discounted_price'] = df['discounted_price'].replace('[₹,]', '', regex=True)\n",
    "df['discounted_price'] = pd.to_numeric(df['discounted_price'], errors='coerce')\n",
    "\n",
    "# Convert 'rating' to numeric\n",
    "df['rating'] = pd.to_numeric(df['rating'], errors='coerce')\n",
    "\n",
    "print(\"\\nMissing values after conversion to numeric:\")\n",
    "print(df[['discounted_price', 'rating']].isnull().sum())\n",
    "\n",
    "# Fill missing values in 'discounted_price' and 'rating'\n",
    "df['discounted_price'].fillna(df['discounted_price'].mean(), inplace=True)\n",
    "df['rating'].fillna(df['rating'].mean(), inplace=True)\n",
    "\n",
    "# Drop rows with missing 'review_content'\n",
    "df.dropna(subset=['review_content'], inplace=True)\n",
    "\n",
    "# Display the dataset after cleaning\n",
    "print(\"Dataset after cleaning:\")\n",
    "print(df.head())\n",
    "print(\"Dataset Shape after cleaning:\", df.shape)\n"
   ]
  },
  {
   "cell_type": "code",
   "execution_count": 5,
   "metadata": {},
   "outputs": [
    {
     "data": {
      "image/png": "[encoded data removed]",
      "text/plain": [
       "<Figure size 800x600 with 1 Axes>"
      ]
     },
     "metadata": {},
     "output_type": "display_data"
    },
    {
     "data": {
      "image/png": "[encoded data removed]",
      "text/plain": [
       "<Figure size 800x600 with 1 Axes>"
      ]
     },
     "metadata": {},
     "output_type": "display_data"
    }
   ],
   "source": [
    "import seaborn as sns\n",
    "import matplotlib.pyplot as plt\n",
    "\n",
    "# EDA: Distribution of Ratings\n",
    "plt.figure(figsize=(8, 6))\n",
    "sns.histplot(df['rating'], bins=5, kde=True)\n",
    "plt.title('Distribution of Product Ratings')\n",
    "plt.xlabel('Rating')\n",
    "plt.ylabel('Frequency')\n",
    "plt.show()\n",
    "\n",
    "# EDA: Distribution of Discounted Prices\n",
    "plt.figure(figsize=(8, 6))\n",
    "sns.histplot(df['discounted_price'], bins=30, kde=True)\n",
    "plt.title('Distribution of Discounted Prices')\n",
    "plt.xlabel('Discounted Price')\n",
    "plt.ylabel('Frequency')\n",
    "plt.show()\n"
   ]
  },
  {
   "cell_type": "code",
   "execution_count": 4,
   "metadata": {},
   "outputs": [
    {
     "name": "stderr",
     "output_type": "stream",
     "text": [
      "[nltk_data] Downloading package vader_lexicon to\n",
      "[nltk_data]     /Users/sahilbisht/nltk_data...\n",
      "[nltk_data]   Package vader_lexicon is already up-to-date!\n"
     ]
    },
    {
     "name": "stdout",
     "output_type": "stream",
     "text": [
      "                                      review_content  sentiment  \\\n",
      "0  Looks durable Charging is fine tooNo complains...     0.9033   \n",
      "1  I ordered this cable to connect my phone to An...     0.9853   \n",
      "2  Not quite durable and sturdy,https://m.media-a...     0.6808   \n",
      "3  Good product,long wire,Charges good,Nice,I bou...     0.8316   \n",
      "4  Bought this instead of original apple, does th...     0.9809   \n",
      "\n",
      "   sentiment_encoded  \n",
      "0                  1  \n",
      "1                  1  \n",
      "2                  1  \n",
      "3                  1  \n",
      "4                  1  \n",
      "Random Forest Classification Report:\n",
      "               precision    recall  f1-score   support\n",
      "\n",
      "       False       1.00      1.00      1.00        74\n",
      "        True       1.00      1.00      1.00       219\n",
      "\n",
      "    accuracy                           1.00       293\n",
      "   macro avg       1.00      1.00      1.00       293\n",
      "weighted avg       1.00      1.00      1.00       293\n",
      "\n",
      "Random Forest Accuracy Score: 1.0\n"
     ]
    }
   ],
   "source": [
    "import nltk\n",
    "from nltk.sentiment import SentimentIntensityAnalyzer\n",
    "from sklearn.model_selection import train_test_split\n",
    "from sklearn.ensemble import RandomForestClassifier\n",
    "from sklearn.metrics import classification_report, accuracy_score\n",
    "import pandas as pd\n",
    "\n",
    "# Download VADER lexicon\n",
    "nltk.download('vader_lexicon')\n",
    "\n",
    "# Initialize Sentiment Intensity Analyzer\n",
    "sia = SentimentIntensityAnalyzer()\n",
    "\n",
    "# Check if 'review_content' exists in DataFrame and process sentiment\n",
    "if 'review_content' in df.columns:\n",
    "    # Apply sentiment analysis\n",
    "    df['sentiment'] = df['review_content'].apply(lambda x: sia.polarity_scores(x)['compound'])\n",
    "    df['sentiment_encoded'] = df['sentiment'].apply(lambda x: 1 if x > 0 else 0)\n",
    "    print(df[['review_content', 'sentiment', 'sentiment_encoded']].head())\n",
    "else:\n",
    "    print(\"Column 'review_content' is missing from the DataFrame.\")\n",
    "\n",
    "# Ensure 'discounted_price', 'rating', and 'sentiment_encoded' columns are available\n",
    "required_columns = ['discounted_price', 'rating', 'sentiment_encoded']\n",
    "missing_columns = [col for col in required_columns if col not in df.columns]\n",
    "if missing_columns:\n",
    "    print(f\"The following required columns are missing: {missing_columns}\")\n",
    "else:\n",
    "    # Convert 'rating' to numeric and clean missing data\n",
    "    df['rating'] = pd.to_numeric(df['rating'], errors='coerce')\n",
    "    df['discounted_price'] = pd.to_numeric(df['discounted_price'], errors='coerce')\n",
    "    df.dropna(subset=['rating', 'discounted_price'], inplace=True)\n",
    "\n",
    "    # Define features and target variable\n",
    "    X = df[['discounted_price', 'rating', 'sentiment_encoded']]\n",
    "    y = df['rating'] >= 4  # Satisfactory if rating >= 4\n",
    "\n",
    "    # Split data into training and testing sets\n",
    "    X_train, X_test, y_train, y_test = train_test_split(X, y, test_size=0.2, random_state=42)\n",
    "\n",
    "    # Initialize and train the Random Forest Classifier\n",
    "    rf_model = RandomForestClassifier(random_state=42)\n",
    "    rf_model.fit(X_train, y_train)\n",
    "\n",
    "    # Evaluate the model\n",
    "    y_pred = rf_model.predict(X_test)\n",
    "    print(\"Random Forest Classification Report:\\n\", classification_report(y_test, y_pred))\n",
    "    print(\"Random Forest Accuracy Score:\", accuracy_score(y_test, y_pred))\n"
   ]
  },
  {
   "cell_type": "code",
   "execution_count": null,
   "metadata": {},
   "outputs": [
    {
     "name": "stdout",
     "output_type": "stream",
     "text": [
      "Columns in the DataFrame:\n",
      "Index(['product_id', 'product_name', 'category', 'discounted_price',\n",
      "       'actual_price', 'discount_percentage', 'rating', 'rating_count',\n",
      "       'about_product', 'user_id', 'user_name', 'review_id', 'review_title',\n",
      "       'review_content', 'img_link', 'product_link'],\n",
      "      dtype='object')\n",
      "The following required columns are missing: ['sentiment_encoded']\n"
     ]
    }
   ],
   "source": []
  },
  {
   "cell_type": "code",
   "execution_count": 6,
   "metadata": {},
   "outputs": [
    {
     "name": "stdout",
     "output_type": "stream",
     "text": [
      "Sample Tags:\n",
      "                                        product_name  \\\n",
      "0  wayonanylonbraidedusbtolightningfastchargingan...   \n",
      "1  ambraneunbreakable60w/3afastcharging1.5mbraide...   \n",
      "2  souncefastphonechargingcable&datasyncusbcablec...   \n",
      "3  boatdeuceusb3002in1type-c&microusbstressresist...   \n",
      "4  portronicskonnectl1.2mfastcharging3a8pinusbcab...   \n",
      "\n",
      "                                                tags  \n",
      "0  computers&accessories|accessories&peripherals|...  \n",
      "1  computers&accessories|accessories&peripherals|...  \n",
      "2  computers&accessories|accessories&peripherals|...  \n",
      "3  computers&accessories|accessories&peripherals|...  \n",
      "4  computers&accessories|accessories&peripherals|...  \n"
     ]
    }
   ],
   "source": [
    "# Combine 'category', 'review_content', and 'product_name' to create 'tags'\n",
    "df['category'] = df['category'].apply(lambda x: x.lower().replace(\" \", \"\") if isinstance(x, str) else \"\")\n",
    "df['review_content'] = df['review_content'].apply(lambda x: x.lower().replace(\" \", \"\") if isinstance(x, str) else \"\")\n",
    "df['product_name'] = df['product_name'].apply(lambda x: x.lower().replace(\" \", \"\") if isinstance(x, str) else \"\")\n",
    "\n",
    "# Combine these fields into a single 'tags' column\n",
    "df['tags'] = df['category'] + \" \" + df['review_content'] + \" \" + df['product_name']\n",
    "\n",
    "# Display sample tags\n",
    "print(\"Sample Tags:\")\n",
    "print(df[['product_name', 'tags']].head())\n"
   ]
  },
  {
   "cell_type": "code",
   "execution_count": 7,
   "metadata": {},
   "outputs": [
    {
     "name": "stdout",
     "output_type": "stream",
     "text": [
      "Shape of vectorized data: (1465, 5000)\n",
      "[[0 0 0 ... 0 0 0]\n",
      " [0 0 0 ... 0 0 0]\n",
      " [0 0 0 ... 0 0 0]\n",
      " ...\n",
      " [0 0 0 ... 0 0 0]\n",
      " [0 0 0 ... 0 0 0]\n",
      " [0 0 0 ... 0 0 0]]\n"
     ]
    }
   ],
   "source": [
    "from sklearn.feature_extraction.text import CountVectorizer\n",
    "\n",
    "# Vectorize the 'tags' column\n",
    "cv = CountVectorizer(max_features=5000, stop_words='english')\n",
    "vector = cv.fit_transform(df['tags']).toarray()\n",
    "\n",
    "# Check the shape of the vectorized data\n",
    "print(\"Shape of vectorized data:\", vector.shape)\n",
    "print(vector)\n"
   ]
  },
  {
   "cell_type": "code",
   "execution_count": 10,
   "metadata": {},
   "outputs": [
    {
     "name": "stdout",
     "output_type": "stream",
     "text": [
      "Cosine similarity matrix calculated.\n"
     ]
    }
   ],
   "source": [
    "from sklearn.metrics.pairwise import cosine_similarity\n",
    "\n",
    "# Calculate cosine similarity matrix\n",
    "similarity = cosine_similarity(vector)\n",
    "print(\"Cosine similarity matrix calculated.\")\n"
   ]
  },
  {
   "cell_type": "code",
   "execution_count": 11,
   "metadata": {},
   "outputs": [
    {
     "name": "stdout",
     "output_type": "stream",
     "text": [
      "Top 5 recommendations for 'wayonanylonbraidedusbtolightningfastcharginganddatasynccablecompatibleforiphone13,12,11,x,8,7,6,5,ipadair,pro,mini(3ftpackof1,grey)':\n",
      "Product: Wayonanylonbraidedusbtolightningfastcharginganddatasynccablecompatibleforiphone13,12,11,X,8,7,6,5,Ipadair,Pro,Mini(3Ftpackof1,Grey)\n",
      "Link: https://www.amazon.in/Wayona-Braided-WN3LG1-Syncing-Charging/dp/B07JW9H4J1/ref=sr_1_33?qid=1672902996&s=computers&sr=1-33\n",
      "------------\n",
      "Product: Wayonanylonbraidedusbtolightningfastcharginganddatasynccablecompatibleforiphone13,12,11,X,8,7,6,5,Ipadair,Pro,Mini(3Ftpackof1,Grey)\n",
      "Link: https://www.amazon.in/Wayona-Braided-WN3LG1-Syncing-Charging/dp/B07JW9H4J1/ref=sr_1_38?qid=1672895755&s=electronics&sr=1-38\n",
      "------------\n",
      "Product: Wayonanylonbraided2M/6Ftfastchargeusbtolightningdatasyncandchargingcableforiphone,Ipadtablet(6Ftpackof1,Grey)\n",
      "Link: https://www.amazon.in/Wayona-Braided-WN6LG1-Syncing-Charging/dp/B07JGDB5M1/ref=sr_1_119?qid=1672909129&s=electronics&sr=1-119\n",
      "------------\n",
      "Product: Wayonanylonbraided3Alightningtousbasyncingandfastchargingdatacableforiphone,Ipad(3Ftpackof1,Black)\n",
      "Link: https://www.amazon.in/Wayona-Braided-WN3LB1-Syncing-Charging/dp/B07JW1Y6XV/ref=sr_1_46?qid=1672909125&s=electronics&sr=1-46\n",
      "------------\n",
      "Product: Wayonanylonbraided(2Pack)Lightningfastusbdatacablefastchargercordforiphone,Ipadtablet(3Ftpackof2,Grey)\n",
      "Link: https://www.amazon.in/Wayona-Braided-WN3LG2-Syncing-Charging/dp/B07JH1C41D/ref=sr_1_98?qid=1672909129&s=electronics&sr=1-98\n",
      "------------\n"
     ]
    }
   ],
   "source": [
    "# Define the recommendation function\n",
    "def recommend(product_name):\n",
    "    try:\n",
    "        # Find the index of the product by name\n",
    "        index = df[df['product_name'] == product_name.lower().replace(\" \", \"\")].index[0]\n",
    "        distances = sorted(list(enumerate(similarity[index])), reverse=True, key=lambda x: x[1])\n",
    "\n",
    "        print(f\"Top 5 recommendations for '{product_name}':\")\n",
    "        for i in distances[1:6]:  # Skip the first as it's the product itself\n",
    "            product_index = i[0]\n",
    "            print(f\"Product: {df.iloc[product_index]['product_name'].title()}\")\n",
    "            print(f\"Link: {df.iloc[product_index]['product_link']}\")\n",
    "            print(\"------------\")\n",
    "    except IndexError:\n",
    "        print(f\"Product '{product_name}' not found in the dataset.\")\n",
    "\n",
    "# Test the recommendation function\n",
    "sample_product_name = df['product_name'].iloc[0]  # Use the first product name in the dataset as an example\n",
    "recommend(sample_product_name)\n"
   ]
  }
 ],
 "metadata": {
  "kernelspec": {
   "display_name": "Python 3",
   "language": "python",
   "name": "python3"
  },
  "language_info": {
   "codemirror_mode": {
    "name": "ipython",
    "version": 3
   },
   "file_extension": ".py",
   "mimetype": "text/x-python",
   "name": "python",
   "nbconvert_exporter": "python",
   "pygments_lexer": "ipython3",
   "version": "3.undefined.undefined"
  }
 },
 "nbformat": 4,
 "nbformat_minor": 2
}
